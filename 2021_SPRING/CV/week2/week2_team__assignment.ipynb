{
  "nbformat": 4,
  "nbformat_minor": 0,
  "metadata": {
    "colab": {
      "name": "week2-team _assignment",
      "provenance": [],
      "collapsed_sections": [],
      "toc_visible": true
    },
    "kernelspec": {
      "name": "python3",
      "display_name": "Python 3"
    },
    "accelerator": "GPU"
  },
  "cells": [
    {
      "cell_type": "markdown",
      "metadata": {
        "id": "6AwUv-LMkHcM"
      },
      "source": [
        "- Dropout\r\n",
        "- Early Stopping 최적의 model\r\n",
        "\r\n",
        "\r\n",
        "- vgg16,19\r\n",
        "- Resnet, EfficientNet 등 모델 활용\r\n",
        "https://keras.io/api/applications/\r\n",
        "\r\n",
        "\r\n",
        "- Data Augmentation이 가능한지\r\n",
        "\r\n",
        "\r\n",
        "< Transfer Learning >\r\n",
        "- Initialize Parameters\r\n",
        "- Freeze CNN\r\n",
        "- Fine Tuning\r\n"
      ]
    },
    {
      "cell_type": "code",
      "metadata": {
        "id": "no0DVfcdZgkT"
      },
      "source": [
        "# from google.colab import drive\r\n",
        "# drive.mount('/content/drive')\r\n",
        "# 드라이브 마운트"
      ],
      "execution_count": null,
      "outputs": []
    },
    {
      "cell_type": "code",
      "metadata": {
        "colab": {
          "base_uri": "https://localhost:8080/",
          "height": 35
        },
        "id": "sC2-FZJBlDyv",
        "outputId": "841688ef-bb2f-4dc8-fe07-9409b87e9e8b"
      },
      "source": [
        "import tensorflow as tf\r\n",
        "tf.test.gpu_device_name() # GPU 사용중인지 확인"
      ],
      "execution_count": 1,
      "outputs": [
        {
          "output_type": "execute_result",
          "data": {
            "application/vnd.google.colaboratory.intrinsic+json": {
              "type": "string"
            },
            "text/plain": [
              "'/device:GPU:0'"
            ]
          },
          "metadata": {
            "tags": []
          },
          "execution_count": 1
        }
      ]
    },
    {
      "cell_type": "markdown",
      "metadata": {
        "id": "XQcO1ehXZ53D"
      },
      "source": [
        "# Convolutional Neural Networks : Classification Assignment"
      ]
    },
    {
      "cell_type": "markdown",
      "metadata": {
        "id": "oQUzhiu3aIXS"
      },
      "source": [
        "# Data "
      ]
    },
    {
      "cell_type": "markdown",
      "metadata": {
        "id": "DOj3UVmLq4b9"
      },
      "source": [
        "## Loading Data"
      ]
    },
    {
      "cell_type": "markdown",
      "metadata": {
        "id": "4oxN3lr8kXen"
      },
      "source": [
        "* 공유 드라이브에서 데이터셋 가져오기"
      ]
    },
    {
      "cell_type": "code",
      "metadata": {
        "id": "70fRXsSXmYAK"
      },
      "source": [
        "import os, shutil"
      ],
      "execution_count": 2,
      "outputs": []
    },
    {
      "cell_type": "code",
      "metadata": {
        "id": "4tK2qJS3ltq0"
      },
      "source": [
        "# 기본 경로\r\n",
        "original_dir='/content/drive/Shareddrives/Practical_Computer_Vision/week_2/Classification'\r\n",
        "base_dir='/content/drive/MyDrive/datasets'\r\n",
        "\r\n",
        "# if os.path.exists(base_dir):  # 반복적인 실행을 위해 디렉토리를 삭제합니다.\r\n",
        "#     shutil.rmtree(base_dir)   # 이 코드는 책에 포함되어 있지 않습니다.\r\n",
        "# os.mkdir(base_dir)\r\n",
        "\r\n",
        "train_dir=os.path.join(base_dir,'train')\r\n",
        "# os.mkdir(train_dir)\r\n",
        "\r\n",
        "valid_dir=os.path.join(base_dir,'validation')\r\n",
        "# os.mkdir(valid_dir)\r\n",
        "\r\n",
        "test_dir=os.path.join(original_dir,'test')\r\n",
        "\r\n",
        "\r\n",
        "org_train_dir=os.path.join(original_dir,'train')\r\n"
      ],
      "execution_count": 3,
      "outputs": []
    },
    {
      "cell_type": "code",
      "metadata": {
        "colab": {
          "base_uri": "https://localhost:8080/"
        },
        "id": "fGWXVrDXrGw_",
        "outputId": "0237d772-dd05-42ce-ace9-3be7324579bc"
      },
      "source": [
        "label_names=os.listdir(org_train_dir)\r\n",
        "print(label_names)"
      ],
      "execution_count": 4,
      "outputs": [
        {
          "output_type": "stream",
          "text": [
            "['glacier', 'buildings', 'forest', 'street', 'sea', 'mountain']\n"
          ],
          "name": "stdout"
        }
      ]
    },
    {
      "cell_type": "code",
      "metadata": {
        "id": "gmTGf1ut5MIx"
      },
      "source": [
        "# for names in label_names:\r\n",
        "#   a=os.path.join(org_train_dir,names)\r\n",
        "#   tra_tmp=os.path.join(train_dir,names)\r\n",
        "#   os.mkdir(tra_tmp)\r\n",
        "#   val_tmp=os.path.join(valid_dir,names)\r\n",
        "#   os.mkdir(val_tmp)\r\n",
        "  \r\n",
        "#   number_of_files=len(os.listdir(a))\r\n",
        "#   files=os.listdir(a)\r\n",
        "\r\n",
        "#   for fname in files[:number_of_files//3]: # 1/3만큼 validation data 생성\r\n",
        "#     src=os.path.join(a,fname)\r\n",
        "#     dst=os.path.join(val_tmp,fname)\r\n",
        "#     shutil.copyfile(src,dst)\r\n",
        "\r\n",
        "#   for fname in files[number_of_files//3:]: # 나머지 2/3만큼 train data 생성\r\n",
        "#     src=os.path.join(a,fname)\r\n",
        "#     dst=os.path.join(tra_tmp,fname)\r\n",
        "#     shutil.copyfile(src,dst)\r\n"
      ],
      "execution_count": 5,
      "outputs": []
    },
    {
      "cell_type": "code",
      "metadata": {
        "colab": {
          "base_uri": "https://localhost:8080/"
        },
        "id": "YccelIoKDjbu",
        "outputId": "5a98e60b-d879-4bf4-a333-7e480121ebfe"
      },
      "source": [
        "# 알맞게 복사됐는지 확인\r\n",
        "for names in label_names:\r\n",
        "  tra_tmp=os.path.join(train_dir,names)\r\n",
        "  val_tmp=os.path.join(valid_dir,names)\r\n",
        "\r\n",
        "  print(names)\r\n",
        "  print(f'Number of Train, {names} data : {len(os.listdir(tra_tmp))}')\r\n",
        "  print(f'Number of Validation, {names} data : {len(os.listdir(val_tmp))}')\r\n",
        "\r\n"
      ],
      "execution_count": 6,
      "outputs": [
        {
          "output_type": "stream",
          "text": [
            "glacier\n",
            "Number of Train, glacier data : 1603\n",
            "Number of Validation, glacier data : 801\n",
            "buildings\n",
            "Number of Train, buildings data : 1461\n",
            "Number of Validation, buildings data : 730\n",
            "forest\n",
            "Number of Train, forest data : 1514\n",
            "Number of Validation, forest data : 757\n",
            "street\n",
            "Number of Train, street data : 1588\n",
            "Number of Validation, street data : 794\n",
            "sea\n",
            "Number of Train, sea data : 1516\n",
            "Number of Validation, sea data : 758\n",
            "mountain\n",
            "Number of Train, mountain data : 1675\n",
            "Number of Validation, mountain data : 837\n"
          ],
          "name": "stdout"
        }
      ]
    },
    {
      "cell_type": "markdown",
      "metadata": {
        "id": "7jAQME7TvJpJ"
      },
      "source": [
        "## Data Preprocessing"
      ]
    },
    {
      "cell_type": "code",
      "metadata": {
        "id": "bnCqorY5n-Rq",
        "colab": {
          "base_uri": "https://localhost:8080/"
        },
        "outputId": "140aec0a-59df-4c1d-8752-a9b464003000"
      },
      "source": [
        "from keras.preprocessing.image import ImageDataGenerator\r\n",
        "\r\n",
        "# 모든 이미지를 1/255로 스케일 조정\r\n",
        "train_datagen=ImageDataGenerator(rescale=1.0/255.)\r\n",
        "validation_datagen=ImageDataGenerator(rescale=1.0/255.)\r\n",
        "# test_datagen=ImageDataGenerator(rescale=1.0/255.)\r\n",
        "\r\n",
        "train_generator = train_datagen.flow_from_directory(\r\n",
        "        # 타깃 디렉터리\r\n",
        "        train_dir,\r\n",
        "        # 모든 이미지를 150 × 150 크기로 바꿉니다\r\n",
        "        target_size=(150, 150),\r\n",
        "        batch_size=20,\r\n",
        "        # categorical_crossentropy 손실을 사용하기 때문에 다중 레이블이 필요합니다\r\n",
        "        class_mode='categorical')\r\n",
        "\r\n",
        "validation_generator = validation_datagen.flow_from_directory(\r\n",
        "        # 타깃 디렉터리\r\n",
        "        valid_dir,\r\n",
        "        # 모든 이미지를 150 × 150 크기로 바꿉니다\r\n",
        "        target_size=(150, 150),\r\n",
        "        batch_size=20,\r\n",
        "        # categorical_crossentropy 손실을 사용하기 때문에 다중 레이블이 필요합니다\r\n",
        "        class_mode='categorical')\r\n",
        "\r\n",
        "# test_generator=test_datagen.flow_from_directory(\r\n",
        "#         test_dir,\r\n",
        "#         target_size=(150,150),\r\n",
        "#         batch_size=20,\r\n",
        "#         class_mode='categorical'\r\n",
        "# )"
      ],
      "execution_count": 7,
      "outputs": [
        {
          "output_type": "stream",
          "text": [
            "Found 9357 images belonging to 6 classes.\n",
            "Found 4677 images belonging to 6 classes.\n"
          ],
          "name": "stdout"
        }
      ]
    },
    {
      "cell_type": "code",
      "metadata": {
        "colab": {
          "base_uri": "https://localhost:8080/"
        },
        "id": "R8NAEg7kvTOU",
        "outputId": "c2fedd4e-ea32-4011-d3a1-d0aabcb8d33a"
      },
      "source": [
        "for data_batch, labels_batch in train_generator:\r\n",
        "    print('배치 데이터 크기:', data_batch.shape)\r\n",
        "    print('배치 레이블 크기:', labels_batch.shape)\r\n",
        "    break"
      ],
      "execution_count": 8,
      "outputs": [
        {
          "output_type": "stream",
          "text": [
            "배치 데이터 크기: (20, 150, 150, 3)\n",
            "배치 레이블 크기: (20, 6)\n"
          ],
          "name": "stdout"
        }
      ]
    },
    {
      "cell_type": "markdown",
      "metadata": {
        "id": "CXzLujaspg64"
      },
      "source": [
        "# Build Model"
      ]
    },
    {
      "cell_type": "markdown",
      "metadata": {
        "id": "5Og1YCGuqdmt"
      },
      "source": [
        "## Initialized Parameters"
      ]
    },
    {
      "cell_type": "code",
      "metadata": {
        "id": "EeNT49XWtzup"
      },
      "source": [
        "from keras import layers\r\n",
        "from keras import models\r\n",
        "\r\n",
        "model = models.Sequential()\r\n",
        "model.add(layers.Conv2D(32, (3, 3), activation='relu',\r\n",
        "                        input_shape=(150, 150, 3)))\r\n",
        "model.add(layers.MaxPooling2D((2, 2)))\r\n",
        "model.add(layers.Conv2D(64, (3, 3), activation='relu'))\r\n",
        "model.add(layers.MaxPooling2D((2, 2)))\r\n",
        "model.add(layers.Conv2D(128, (3, 3), activation='relu'))\r\n",
        "model.add(layers.MaxPooling2D((2, 2)))\r\n",
        "model.add(layers.Conv2D(128, (3, 3), activation='relu'))\r\n",
        "model.add(layers.MaxPooling2D((2, 2)))\r\n",
        "model.add(layers.Flatten())\r\n",
        "model.add(layers.Dense(512, activation='relu'))\r\n",
        "model.add(layers.Dense(6, activation='softmax'))"
      ],
      "execution_count": null,
      "outputs": []
    },
    {
      "cell_type": "code",
      "metadata": {
        "colab": {
          "base_uri": "https://localhost:8080/"
        },
        "id": "FTjFsN54uL03",
        "outputId": "16ff8c24-4b4d-43dc-a5ef-a1aa6356f298"
      },
      "source": [
        "model.summary()"
      ],
      "execution_count": null,
      "outputs": [
        {
          "output_type": "stream",
          "text": [
            "Model: \"sequential_3\"\n",
            "_________________________________________________________________\n",
            "Layer (type)                 Output Shape              Param #   \n",
            "=================================================================\n",
            "conv2d_12 (Conv2D)           (None, 148, 148, 32)      896       \n",
            "_________________________________________________________________\n",
            "max_pooling2d_12 (MaxPooling (None, 74, 74, 32)        0         \n",
            "_________________________________________________________________\n",
            "conv2d_13 (Conv2D)           (None, 72, 72, 64)        18496     \n",
            "_________________________________________________________________\n",
            "max_pooling2d_13 (MaxPooling (None, 36, 36, 64)        0         \n",
            "_________________________________________________________________\n",
            "conv2d_14 (Conv2D)           (None, 34, 34, 128)       73856     \n",
            "_________________________________________________________________\n",
            "max_pooling2d_14 (MaxPooling (None, 17, 17, 128)       0         \n",
            "_________________________________________________________________\n",
            "conv2d_15 (Conv2D)           (None, 15, 15, 128)       147584    \n",
            "_________________________________________________________________\n",
            "max_pooling2d_15 (MaxPooling (None, 7, 7, 128)         0         \n",
            "_________________________________________________________________\n",
            "flatten_3 (Flatten)          (None, 6272)              0         \n",
            "_________________________________________________________________\n",
            "dense_6 (Dense)              (None, 512)               3211776   \n",
            "_________________________________________________________________\n",
            "dense_7 (Dense)              (None, 6)                 3078      \n",
            "=================================================================\n",
            "Total params: 3,455,686\n",
            "Trainable params: 3,455,686\n",
            "Non-trainable params: 0\n",
            "_________________________________________________________________\n"
          ],
          "name": "stdout"
        }
      ]
    },
    {
      "cell_type": "markdown",
      "metadata": {
        "id": "ERibwipyuby7"
      },
      "source": [
        "컴파일 단계에서 `RMSprop` 옵티마이저를 선택하겠습니다. 네트워크의 마지막은  다중분류 layer이므로, 활성화함수는` softmax`를 사용하고, `categorical_crossentropy`를 손실함수로 사용합니다."
      ]
    },
    {
      "cell_type": "code",
      "metadata": {
        "id": "GUGKbFUqus0i"
      },
      "source": [
        "model.compile(optimizer='rmsprop',\r\n",
        "              loss='categorical_crossentropy',\r\n",
        "              metrics=['acc'])"
      ],
      "execution_count": null,
      "outputs": []
    },
    {
      "cell_type": "code",
      "metadata": {
        "colab": {
          "base_uri": "https://localhost:8080/"
        },
        "id": "nlXWWga52fQv",
        "outputId": "8d6eb58d-9bea-4da8-eafb-57195740f707"
      },
      "source": [
        "history=model.fit_generator(\r\n",
        "    train_generator,\r\n",
        "    steps_per_epoch=100,\r\n",
        "    epochs=30,\r\n",
        "    validation_data=validation_generator,\r\n",
        "    validation_steps=50)"
      ],
      "execution_count": null,
      "outputs": [
        {
          "output_type": "stream",
          "text": [
            "/usr/local/lib/python3.6/dist-packages/tensorflow/python/keras/engine/training.py:1844: UserWarning: `Model.fit_generator` is deprecated and will be removed in a future version. Please use `Model.fit`, which supports generators.\n",
            "  warnings.warn('`Model.fit_generator` is deprecated and '\n"
          ],
          "name": "stderr"
        },
        {
          "output_type": "stream",
          "text": [
            "Epoch 1/30\n",
            "100/100 [==============================] - 14s 63ms/step - loss: 2.4568 - acc: 0.2618 - val_loss: 1.2599 - val_acc: 0.4940\n",
            "Epoch 2/30\n",
            "100/100 [==============================] - 6s 64ms/step - loss: 1.3312 - acc: 0.4688 - val_loss: 1.1584 - val_acc: 0.5300\n",
            "Epoch 3/30\n",
            "100/100 [==============================] - 6s 61ms/step - loss: 1.1096 - acc: 0.5625 - val_loss: 1.0693 - val_acc: 0.5640\n",
            "Epoch 4/30\n",
            "100/100 [==============================] - 6s 60ms/step - loss: 0.9581 - acc: 0.6237 - val_loss: 1.1249 - val_acc: 0.5650\n",
            "Epoch 5/30\n",
            "100/100 [==============================] - 6s 61ms/step - loss: 0.9224 - acc: 0.6473 - val_loss: 0.8231 - val_acc: 0.6980\n",
            "Epoch 6/30\n",
            "100/100 [==============================] - 6s 61ms/step - loss: 0.8492 - acc: 0.6839 - val_loss: 0.7655 - val_acc: 0.7310\n",
            "Epoch 7/30\n",
            "100/100 [==============================] - 6s 62ms/step - loss: 0.7514 - acc: 0.7375 - val_loss: 0.7278 - val_acc: 0.7440\n",
            "Epoch 8/30\n",
            "100/100 [==============================] - 6s 61ms/step - loss: 0.7216 - acc: 0.7314 - val_loss: 0.6744 - val_acc: 0.7670\n",
            "Epoch 9/30\n",
            "100/100 [==============================] - 6s 60ms/step - loss: 0.6848 - acc: 0.7564 - val_loss: 0.6954 - val_acc: 0.7470\n",
            "Epoch 10/30\n",
            "100/100 [==============================] - 6s 60ms/step - loss: 0.6508 - acc: 0.7571 - val_loss: 0.7395 - val_acc: 0.7470\n",
            "Epoch 11/30\n",
            "100/100 [==============================] - 6s 61ms/step - loss: 0.6382 - acc: 0.7765 - val_loss: 0.5722 - val_acc: 0.8000\n",
            "Epoch 12/30\n",
            "100/100 [==============================] - 6s 62ms/step - loss: 0.6686 - acc: 0.7622 - val_loss: 0.6975 - val_acc: 0.7760\n",
            "Epoch 13/30\n",
            "100/100 [==============================] - 6s 61ms/step - loss: 0.6320 - acc: 0.7898 - val_loss: 0.6494 - val_acc: 0.7590\n",
            "Epoch 14/30\n",
            "100/100 [==============================] - 6s 63ms/step - loss: 0.5603 - acc: 0.8071 - val_loss: 0.8504 - val_acc: 0.7190\n",
            "Epoch 15/30\n",
            "100/100 [==============================] - 6s 64ms/step - loss: 0.5295 - acc: 0.8137 - val_loss: 0.9602 - val_acc: 0.6700\n",
            "Epoch 16/30\n",
            "100/100 [==============================] - 6s 61ms/step - loss: 0.5075 - acc: 0.8303 - val_loss: 0.6252 - val_acc: 0.7950\n",
            "Epoch 17/30\n",
            "100/100 [==============================] - 6s 62ms/step - loss: 0.5193 - acc: 0.8366 - val_loss: 0.6160 - val_acc: 0.8000\n",
            "Epoch 18/30\n",
            "100/100 [==============================] - 6s 61ms/step - loss: 0.5104 - acc: 0.8136 - val_loss: 0.7308 - val_acc: 0.7470\n",
            "Epoch 19/30\n",
            "100/100 [==============================] - 6s 61ms/step - loss: 0.4541 - acc: 0.8339 - val_loss: 0.5492 - val_acc: 0.8070\n",
            "Epoch 20/30\n",
            "100/100 [==============================] - 6s 61ms/step - loss: 0.5313 - acc: 0.8176 - val_loss: 0.6159 - val_acc: 0.7940\n",
            "Epoch 21/30\n",
            "100/100 [==============================] - 6s 61ms/step - loss: 0.4125 - acc: 0.8565 - val_loss: 0.6508 - val_acc: 0.8070\n",
            "Epoch 22/30\n",
            "100/100 [==============================] - 6s 60ms/step - loss: 0.4381 - acc: 0.8451 - val_loss: 0.6310 - val_acc: 0.7930\n",
            "Epoch 23/30\n",
            "100/100 [==============================] - 6s 62ms/step - loss: 0.4971 - acc: 0.8312 - val_loss: 0.7069 - val_acc: 0.7820\n",
            "Epoch 24/30\n",
            "100/100 [==============================] - 6s 61ms/step - loss: 0.3972 - acc: 0.8584 - val_loss: 0.7573 - val_acc: 0.7640\n",
            "Epoch 25/30\n",
            "100/100 [==============================] - 6s 60ms/step - loss: 0.4601 - acc: 0.8449 - val_loss: 0.7849 - val_acc: 0.7790\n",
            "Epoch 26/30\n",
            "100/100 [==============================] - 6s 61ms/step - loss: 0.4161 - acc: 0.8535 - val_loss: 0.7644 - val_acc: 0.7860\n",
            "Epoch 27/30\n",
            "100/100 [==============================] - 6s 62ms/step - loss: 0.4168 - acc: 0.8624 - val_loss: 0.9475 - val_acc: 0.7590\n",
            "Epoch 28/30\n",
            "100/100 [==============================] - 6s 61ms/step - loss: 0.4074 - acc: 0.8611 - val_loss: 0.7248 - val_acc: 0.7930\n",
            "Epoch 29/30\n",
            "100/100 [==============================] - 6s 60ms/step - loss: 0.3531 - acc: 0.8867 - val_loss: 1.1808 - val_acc: 0.7360\n",
            "Epoch 30/30\n",
            "100/100 [==============================] - 6s 62ms/step - loss: 0.4549 - acc: 0.8580 - val_loss: 0.6037 - val_acc: 0.7910\n"
          ],
          "name": "stdout"
        }
      ]
    },
    {
      "cell_type": "code",
      "metadata": {
        "id": "AP87oHgGFd04"
      },
      "source": [
        "model.save('initial_parameters.h5')"
      ],
      "execution_count": null,
      "outputs": []
    },
    {
      "cell_type": "code",
      "metadata": {
        "id": "dDDiSuBhFeBj"
      },
      "source": [
        "import matplotlib.pyplot as plt"
      ],
      "execution_count": null,
      "outputs": []
    },
    {
      "cell_type": "code",
      "metadata": {
        "colab": {
          "base_uri": "https://localhost:8080/",
          "height": 545
        },
        "id": "MyZoFQb6FoBu",
        "outputId": "4a728b4b-798b-4b99-be0a-937071da194e"
      },
      "source": [
        "acc = history.history['acc']\r\n",
        "val_acc = history.history['val_acc']\r\n",
        "loss = history.history['loss']\r\n",
        "val_loss = history.history['val_loss']\r\n",
        "\r\n",
        "epochs = range(len(acc))\r\n",
        "\r\n",
        "plt.plot(epochs, acc, 'bo', label='Training acc')\r\n",
        "plt.plot(epochs, val_acc, 'b', label='Validation acc')\r\n",
        "plt.title('Training and validation accuracy')\r\n",
        "plt.legend()\r\n",
        "\r\n",
        "plt.figure()\r\n",
        "\r\n",
        "plt.plot(epochs, loss, 'bo', label='Training loss')\r\n",
        "plt.plot(epochs, val_loss, 'b', label='Validation loss')\r\n",
        "plt.title('Training and validation loss')\r\n",
        "plt.legend()\r\n",
        "\r\n",
        "plt.show()"
      ],
      "execution_count": null,
      "outputs": [
        {
          "output_type": "display_data",
          "data": {
            "image/png": "[encoded data removed]",
            "text/plain": [
              "<Figure size 432x288 with 1 Axes>"
            ]
          },
          "metadata": {
            "tags": [],
            "needs_background": "light"
          }
        },
        {
          "output_type": "display_data",
          "data": {
            "image/png": "[encoded data removed]",
            "text/plain": [
              "<Figure size 432x288 with 1 Axes>"
            ]
          },
          "metadata": {
            "tags": [],
            "needs_background": "light"
          }
        }
      ]
    },
    {
      "cell_type": "markdown",
      "metadata": {
        "id": "tVLo_h1RFsE3"
      },
      "source": [
        "이 그래프는 과대적합의 특성을 보여줍니다. 훈련 정확도가 시간이 지남에 따라 선형적으로 증가해서 거의 100%에 도달합니다. 반면 검증 정확도는 70-72%에서 멈추었습니다. \r\n",
        "\r\n",
        "비교적 훈련 샘플의 수(2,000개)가 적기 때문에 과대적합이 발생하기 쉽다."
      ]
    },
    {
      "cell_type": "markdown",
      "metadata": {
        "id": "Q1cInPoDpnM7"
      },
      "source": [
        "## Freeze CNN"
      ]
    },
    {
      "cell_type": "markdown",
      "metadata": {
        "id": "XUkeZFuNMC3o"
      },
      "source": [
        "### Freeze CNN-1"
      ]
    },
    {
      "cell_type": "code",
      "metadata": {
        "id": "o_RLgACKICn4"
      },
      "source": [
        "from keras.applications import VGG16"
      ],
      "execution_count": 9,
      "outputs": []
    },
    {
      "cell_type": "code",
      "metadata": {
        "id": "ThplfnKitJCH",
        "colab": {
          "base_uri": "https://localhost:8080/"
        },
        "outputId": "b091ce17-103f-43a6-d960-f94c04923bbb"
      },
      "source": [
        "conv_base=VGG16(weights='imagenet',\r\n",
        "                include_top=False,\r\n",
        "                input_shape=(150,150,3))"
      ],
      "execution_count": 10,
      "outputs": [
        {
          "output_type": "stream",
          "text": [
            "Downloading data from https://storage.googleapis.com/tensorflow/keras-applications/vgg16/vgg16_weights_tf_dim_ordering_tf_kernels_notop.h5\n",
            "58892288/58889256 [==============================] - 0s 0us/step\n"
          ],
          "name": "stdout"
        }
      ]
    },
    {
      "cell_type": "code",
      "metadata": {
        "colab": {
          "base_uri": "https://localhost:8080/"
        },
        "id": "H67MaQe3IS6C",
        "outputId": "d001b0b5-4305-4ab7-8c51-92cb4a282bd5"
      },
      "source": [
        "conv_base.summary()"
      ],
      "execution_count": 11,
      "outputs": [
        {
          "output_type": "stream",
          "text": [
            "Model: \"vgg16\"\n",
            "_________________________________________________________________\n",
            "Layer (type)                 Output Shape              Param #   \n",
            "=================================================================\n",
            "input_1 (InputLayer)         [(None, 150, 150, 3)]     0         \n",
            "_________________________________________________________________\n",
            "block1_conv1 (Conv2D)        (None, 150, 150, 64)      1792      \n",
            "_________________________________________________________________\n",
            "block1_conv2 (Conv2D)        (None, 150, 150, 64)      36928     \n",
            "_________________________________________________________________\n",
            "block1_pool (MaxPooling2D)   (None, 75, 75, 64)        0         \n",
            "_________________________________________________________________\n",
            "block2_conv1 (Conv2D)        (None, 75, 75, 128)       73856     \n",
            "_________________________________________________________________\n",
            "block2_conv2 (Conv2D)        (None, 75, 75, 128)       147584    \n",
            "_________________________________________________________________\n",
            "block2_pool (MaxPooling2D)   (None, 37, 37, 128)       0         \n",
            "_________________________________________________________________\n",
            "block3_conv1 (Conv2D)        (None, 37, 37, 256)       295168    \n",
            "_________________________________________________________________\n",
            "block3_conv2 (Conv2D)        (None, 37, 37, 256)       590080    \n",
            "_________________________________________________________________\n",
            "block3_conv3 (Conv2D)        (None, 37, 37, 256)       590080    \n",
            "_________________________________________________________________\n",
            "block3_pool (MaxPooling2D)   (None, 18, 18, 256)       0         \n",
            "_________________________________________________________________\n",
            "block4_conv1 (Conv2D)        (None, 18, 18, 512)       1180160   \n",
            "_________________________________________________________________\n",
            "block4_conv2 (Conv2D)        (None, 18, 18, 512)       2359808   \n",
            "_________________________________________________________________\n",
            "block4_conv3 (Conv2D)        (None, 18, 18, 512)       2359808   \n",
            "_________________________________________________________________\n",
            "block4_pool (MaxPooling2D)   (None, 9, 9, 512)         0         \n",
            "_________________________________________________________________\n",
            "block5_conv1 (Conv2D)        (None, 9, 9, 512)         2359808   \n",
            "_________________________________________________________________\n",
            "block5_conv2 (Conv2D)        (None, 9, 9, 512)         2359808   \n",
            "_________________________________________________________________\n",
            "block5_conv3 (Conv2D)        (None, 9, 9, 512)         2359808   \n",
            "_________________________________________________________________\n",
            "block5_pool (MaxPooling2D)   (None, 4, 4, 512)         0         \n",
            "=================================================================\n",
            "Total params: 14,714,688\n",
            "Trainable params: 14,714,688\n",
            "Non-trainable params: 0\n",
            "_________________________________________________________________\n"
          ],
          "name": "stdout"
        }
      ]
    },
    {
      "cell_type": "markdown",
      "metadata": {
        "id": "_ay9X3IPtBmi"
      },
      "source": [
        "![image.png](data:image/png;base64,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)"
      ]
    },
    {
      "cell_type": "code",
      "metadata": {
        "id": "7uKCXwHLp9zL",
        "colab": {
          "base_uri": "https://localhost:8080/"
        },
        "outputId": "7a138a9f-49b6-45d5-d712-880ae9a33cd0"
      },
      "source": [
        "import os\r\n",
        "import numpy as np\r\n",
        "from keras.preprocessing.image import ImageDataGenerator\r\n",
        "\r\n",
        "datagen = ImageDataGenerator(rescale=1./255.)\r\n",
        "batch_size = 20\r\n",
        "\r\n",
        "def extract_features(directory, sample_count):\r\n",
        "    features = np.zeros(shape=(sample_count, 4, 4, 512))\r\n",
        "    labels = np.zeros(shape=(sample_count,6))\r\n",
        "    generator = datagen.flow_from_directory(\r\n",
        "        directory,\r\n",
        "        target_size=(150, 150),\r\n",
        "        batch_size=batch_size,\r\n",
        "        class_mode='categorical')\r\n",
        "    i = 0\r\n",
        "    for inputs_batch, labels_batch in generator:\r\n",
        "        features_batch = conv_base.predict(inputs_batch)\r\n",
        "        features[i * batch_size : (i + 1) * batch_size] = features_batch\r\n",
        "        labels[i * batch_size : (i + 1) * batch_size] = labels_batch\r\n",
        "        i += 1\r\n",
        "        if i * batch_size >= sample_count:\r\n",
        "            # 제너레이터는 루프 안에서 무한하게 데이터를 만들어내므로 모든 이미지를 한 번씩 처리하고 나면 중지합니다\r\n",
        "            break\r\n",
        "    return features, labels\r\n",
        "\r\n",
        "train_features, train_labels = extract_features(train_dir, 2000)\r\n",
        "validation_features, validation_labels = extract_features(valid_dir, 1000)"
      ],
      "execution_count": 12,
      "outputs": [
        {
          "output_type": "stream",
          "text": [
            "Found 9357 images belonging to 6 classes.\n",
            "Found 4677 images belonging to 6 classes.\n"
          ],
          "name": "stdout"
        }
      ]
    },
    {
      "cell_type": "code",
      "metadata": {
        "id": "i94s0fFvK8Lj"
      },
      "source": [
        "train_features = np.reshape(train_features, (2000, 4 * 4 * 512))\r\n",
        "validation_features = np.reshape(validation_features, (1000, 4 * 4 * 512))"
      ],
      "execution_count": 13,
      "outputs": []
    },
    {
      "cell_type": "code",
      "metadata": {
        "id": "h4QDjUr4LF3K",
        "colab": {
          "base_uri": "https://localhost:8080/"
        },
        "outputId": "c81160cf-fb40-4dca-9542-36db40544db7"
      },
      "source": [
        "from keras import models\r\n",
        "from keras import layers\r\n",
        "from keras import optimizers\r\n",
        "\r\n",
        "model = models.Sequential()\r\n",
        "model.add(layers.Dense(256, activation='relu', input_dim=4 * 4 * 512))\r\n",
        "model.add(layers.Dropout(0.5))\r\n",
        "model.add(layers.Dense(6, activation='softmax'))\r\n",
        "\r\n",
        "model.compile(optimizer=optimizers.RMSprop(lr=2e-5),\r\n",
        "              loss='categorical_crossentropy',\r\n",
        "              metrics=['acc'])\r\n",
        "\r\n",
        "history = model.fit(train_features, train_labels,\r\n",
        "                    epochs=30,\r\n",
        "                    batch_size=20,\r\n",
        "                    validation_data=(validation_features, validation_labels))"
      ],
      "execution_count": 14,
      "outputs": [
        {
          "output_type": "stream",
          "text": [
            "Epoch 1/30\n",
            "100/100 [==============================] - 1s 8ms/step - loss: 1.8149 - acc: 0.2707 - val_loss: 1.0547 - val_acc: 0.7240\n",
            "Epoch 2/30\n",
            "100/100 [==============================] - 0s 4ms/step - loss: 1.0665 - acc: 0.6146 - val_loss: 0.7823 - val_acc: 0.7680\n",
            "Epoch 3/30\n",
            "100/100 [==============================] - 0s 4ms/step - loss: 0.8272 - acc: 0.7226 - val_loss: 0.6370 - val_acc: 0.8030\n",
            "Epoch 4/30\n",
            "100/100 [==============================] - 0s 4ms/step - loss: 0.6982 - acc: 0.7546 - val_loss: 0.5661 - val_acc: 0.8320\n",
            "Epoch 5/30\n",
            "100/100 [==============================] - 0s 4ms/step - loss: 0.6209 - acc: 0.7724 - val_loss: 0.5263 - val_acc: 0.8310\n",
            "Epoch 6/30\n",
            "100/100 [==============================] - 0s 4ms/step - loss: 0.5635 - acc: 0.8000 - val_loss: 0.4896 - val_acc: 0.8380\n",
            "Epoch 7/30\n",
            "100/100 [==============================] - 0s 4ms/step - loss: 0.5063 - acc: 0.8185 - val_loss: 0.4709 - val_acc: 0.8460\n",
            "Epoch 8/30\n",
            "100/100 [==============================] - 0s 4ms/step - loss: 0.4612 - acc: 0.8274 - val_loss: 0.4624 - val_acc: 0.8390\n",
            "Epoch 9/30\n",
            "100/100 [==============================] - 0s 4ms/step - loss: 0.4722 - acc: 0.8207 - val_loss: 0.4403 - val_acc: 0.8560\n",
            "Epoch 10/30\n",
            "100/100 [==============================] - 0s 4ms/step - loss: 0.4335 - acc: 0.8585 - val_loss: 0.4293 - val_acc: 0.8630\n",
            "Epoch 11/30\n",
            "100/100 [==============================] - 0s 4ms/step - loss: 0.4182 - acc: 0.8576 - val_loss: 0.4243 - val_acc: 0.8550\n",
            "Epoch 12/30\n",
            "100/100 [==============================] - 0s 4ms/step - loss: 0.3963 - acc: 0.8643 - val_loss: 0.4152 - val_acc: 0.8610\n",
            "Epoch 13/30\n",
            "100/100 [==============================] - 0s 4ms/step - loss: 0.3773 - acc: 0.8671 - val_loss: 0.4104 - val_acc: 0.8620\n",
            "Epoch 14/30\n",
            "100/100 [==============================] - 0s 4ms/step - loss: 0.3444 - acc: 0.8791 - val_loss: 0.4070 - val_acc: 0.8540\n",
            "Epoch 15/30\n",
            "100/100 [==============================] - 0s 4ms/step - loss: 0.3420 - acc: 0.8940 - val_loss: 0.4001 - val_acc: 0.8650\n",
            "Epoch 16/30\n",
            "100/100 [==============================] - 0s 4ms/step - loss: 0.3390 - acc: 0.8891 - val_loss: 0.3984 - val_acc: 0.8640\n",
            "Epoch 17/30\n",
            "100/100 [==============================] - 0s 4ms/step - loss: 0.3326 - acc: 0.8859 - val_loss: 0.3952 - val_acc: 0.8640\n",
            "Epoch 18/30\n",
            "100/100 [==============================] - 0s 4ms/step - loss: 0.3024 - acc: 0.8980 - val_loss: 0.3951 - val_acc: 0.8630\n",
            "Epoch 19/30\n",
            "100/100 [==============================] - 1s 5ms/step - loss: 0.2945 - acc: 0.8998 - val_loss: 0.3963 - val_acc: 0.8550\n",
            "Epoch 20/30\n",
            "100/100 [==============================] - 0s 4ms/step - loss: 0.2671 - acc: 0.9125 - val_loss: 0.3903 - val_acc: 0.8610\n",
            "Epoch 21/30\n",
            "100/100 [==============================] - 0s 4ms/step - loss: 0.2574 - acc: 0.9166 - val_loss: 0.3878 - val_acc: 0.8640\n",
            "Epoch 22/30\n",
            "100/100 [==============================] - 0s 4ms/step - loss: 0.2487 - acc: 0.9148 - val_loss: 0.3863 - val_acc: 0.8680\n",
            "Epoch 23/30\n",
            "100/100 [==============================] - 0s 4ms/step - loss: 0.2612 - acc: 0.9113 - val_loss: 0.3908 - val_acc: 0.8610\n",
            "Epoch 24/30\n",
            "100/100 [==============================] - 0s 4ms/step - loss: 0.2502 - acc: 0.9107 - val_loss: 0.3857 - val_acc: 0.8630\n",
            "Epoch 25/30\n",
            "100/100 [==============================] - 0s 4ms/step - loss: 0.2171 - acc: 0.9260 - val_loss: 0.3841 - val_acc: 0.8600\n",
            "Epoch 26/30\n",
            "100/100 [==============================] - 0s 4ms/step - loss: 0.2478 - acc: 0.9234 - val_loss: 0.3858 - val_acc: 0.8630\n",
            "Epoch 27/30\n",
            "100/100 [==============================] - 0s 4ms/step - loss: 0.2168 - acc: 0.9299 - val_loss: 0.3850 - val_acc: 0.8610\n",
            "Epoch 28/30\n",
            "100/100 [==============================] - 0s 4ms/step - loss: 0.2021 - acc: 0.9294 - val_loss: 0.3851 - val_acc: 0.8600\n",
            "Epoch 29/30\n",
            "100/100 [==============================] - 0s 4ms/step - loss: 0.2237 - acc: 0.9343 - val_loss: 0.3817 - val_acc: 0.8640\n",
            "Epoch 30/30\n",
            "100/100 [==============================] - 0s 4ms/step - loss: 0.2157 - acc: 0.9259 - val_loss: 0.3864 - val_acc: 0.8620\n"
          ],
          "name": "stdout"
        }
      ]
    },
    {
      "cell_type": "code",
      "metadata": {
        "colab": {
          "base_uri": "https://localhost:8080/"
        },
        "id": "Apa9i8mkl_Qz",
        "outputId": "1dc8d90c-3092-4e18-e5fb-4cf7631b0d9a"
      },
      "source": [
        "model.summary()"
      ],
      "execution_count": 15,
      "outputs": [
        {
          "output_type": "stream",
          "text": [
            "Model: \"sequential\"\n",
            "_________________________________________________________________\n",
            "Layer (type)                 Output Shape              Param #   \n",
            "=================================================================\n",
            "dense (Dense)                (None, 256)               2097408   \n",
            "_________________________________________________________________\n",
            "dropout (Dropout)            (None, 256)               0         \n",
            "_________________________________________________________________\n",
            "dense_1 (Dense)              (None, 6)                 1542      \n",
            "=================================================================\n",
            "Total params: 2,098,950\n",
            "Trainable params: 2,098,950\n",
            "Non-trainable params: 0\n",
            "_________________________________________________________________\n"
          ],
          "name": "stdout"
        }
      ]
    },
    {
      "cell_type": "code",
      "metadata": {
        "id": "YsowJH1wLT7s",
        "colab": {
          "base_uri": "https://localhost:8080/",
          "height": 545
        },
        "outputId": "f606c930-d494-4578-8980-b25d802def8c"
      },
      "source": [
        "import matplotlib.pyplot as plt\r\n",
        "\r\n",
        "acc = history.history['acc']\r\n",
        "val_acc = history.history['val_acc']\r\n",
        "loss = history.history['loss']\r\n",
        "val_loss = history.history['val_loss']\r\n",
        "\r\n",
        "epochs = range(len(acc))\r\n",
        "\r\n",
        "plt.plot(epochs, acc, 'bo', label='Training acc')\r\n",
        "plt.plot(epochs, val_acc, 'b', label='Validation acc')\r\n",
        "plt.title('Training and validation accuracy')\r\n",
        "plt.legend()\r\n",
        "\r\n",
        "plt.figure()\r\n",
        "\r\n",
        "plt.plot(epochs, loss, 'bo', label='Training loss')\r\n",
        "plt.plot(epochs, val_loss, 'b', label='Validation loss')\r\n",
        "plt.title('Training and validation loss')\r\n",
        "plt.legend()\r\n",
        "\r\n",
        "plt.show()"
      ],
      "execution_count": 16,
      "outputs": [
        {
          "output_type": "display_data",
          "data": {
            "image/png": "[encoded data removed]",
            "text/plain": [
              "<Figure size 432x288 with 1 Axes>"
            ]
          },
          "metadata": {
            "tags": [],
            "needs_background": "light"
          }
        },
        {
          "output_type": "display_data",
          "data": {
            "image/png": "[encoded data removed]",
            "text/plain": [
              "<Figure size 432x288 with 1 Axes>"
            ]
          },
          "metadata": {
            "tags": [],
            "needs_background": "light"
          }
        }
      ]
    },
    {
      "cell_type": "markdown",
      "metadata": {
        "id": "BZumKuiUL7wT"
      },
      "source": [
        "### Freeze CNN-2"
      ]
    },
    {
      "cell_type": "code",
      "metadata": {
        "id": "1ZfAltM5L39h"
      },
      "source": [
        "from keras import models\r\n",
        "from keras import layers\r\n",
        "\r\n",
        "model = models.Sequential()\r\n",
        "model.add(conv_base)\r\n",
        "model.add(layers.Flatten())\r\n",
        "model.add(layers.Dense(256, activation='relu'))\r\n",
        "model.add(layers.Dense(6, activation='softmax'))"
      ],
      "execution_count": 17,
      "outputs": []
    },
    {
      "cell_type": "code",
      "metadata": {
        "colab": {
          "base_uri": "https://localhost:8080/"
        },
        "id": "pk2-lo5XMHld",
        "outputId": "69e55bbf-a525-43bc-bd99-8daea5f63470"
      },
      "source": [
        "model.summary()"
      ],
      "execution_count": 18,
      "outputs": [
        {
          "output_type": "stream",
          "text": [
            "Model: \"sequential_1\"\n",
            "_________________________________________________________________\n",
            "Layer (type)                 Output Shape              Param #   \n",
            "=================================================================\n",
            "vgg16 (Functional)           (None, 4, 4, 512)         14714688  \n",
            "_________________________________________________________________\n",
            "flatten (Flatten)            (None, 8192)              0         \n",
            "_________________________________________________________________\n",
            "dense_2 (Dense)              (None, 256)               2097408   \n",
            "_________________________________________________________________\n",
            "dense_3 (Dense)              (None, 6)                 1542      \n",
            "=================================================================\n",
            "Total params: 16,813,638\n",
            "Trainable params: 16,813,638\n",
            "Non-trainable params: 0\n",
            "_________________________________________________________________\n"
          ],
          "name": "stdout"
        }
      ]
    },
    {
      "cell_type": "code",
      "metadata": {
        "colab": {
          "base_uri": "https://localhost:8080/"
        },
        "id": "rlGhtZGAMZiW",
        "outputId": "14516d39-84c9-423e-fe33-2bf92dc5ca71"
      },
      "source": [
        "print('conv_base를 동결하기 전 훈련되는 가중치의 수:', \r\n",
        "      len(model.trainable_weights))"
      ],
      "execution_count": 19,
      "outputs": [
        {
          "output_type": "stream",
          "text": [
            "conv_base를 동결하기 전 훈련되는 가중치의 수: 30\n"
          ],
          "name": "stdout"
        }
      ]
    },
    {
      "cell_type": "code",
      "metadata": {
        "id": "Wu1pCPiDWBHa"
      },
      "source": [
        "conv_base.trainable = False"
      ],
      "execution_count": 20,
      "outputs": []
    },
    {
      "cell_type": "code",
      "metadata": {
        "colab": {
          "base_uri": "https://localhost:8080/"
        },
        "id": "_1pLn2YWWA9A",
        "outputId": "466262ac-ad5b-433d-9638-031837e4d377"
      },
      "source": [
        "print('conv_base를 동결한 후 훈련되는 가중치의 수:', \r\n",
        "      len(model.trainable_weights))"
      ],
      "execution_count": 21,
      "outputs": [
        {
          "output_type": "stream",
          "text": [
            "conv_base를 동결한 후 훈련되는 가중치의 수: 4\n"
          ],
          "name": "stdout"
        }
      ]
    },
    {
      "cell_type": "code",
      "metadata": {
        "colab": {
          "base_uri": "https://localhost:8080/"
        },
        "id": "Ozx7mH6MUsya",
        "outputId": "f8cb8180-3ee0-4e51-ae03-73f882d653e8"
      },
      "source": [
        "from keras.preprocessing.image import ImageDataGenerator\r\n",
        "from keras.optimizers import RMSprop\r\n",
        "\r\n",
        "train_datagen2 = ImageDataGenerator(\r\n",
        "      rescale=1./255,\r\n",
        "      rotation_range=20,\r\n",
        "      width_shift_range=0.1,\r\n",
        "      height_shift_range=0.1,\r\n",
        "      shear_range=0.1,\r\n",
        "      zoom_range=0.1,\r\n",
        "      horizontal_flip=True,\r\n",
        "      fill_mode='nearest')\r\n",
        "\r\n",
        "# 검증 데이터는 증식되어서는 안됨\r\n",
        "valid_datagen2 = ImageDataGenerator(rescale=1./255)\r\n",
        "\r\n",
        "train_generator2 = train_datagen2.flow_from_directory(\r\n",
        "        # 타깃 디렉터리\r\n",
        "        train_dir,\r\n",
        "        # 모든 이미지의 크기를 150 × 150로 변경합니다\r\n",
        "        target_size=(150, 150),\r\n",
        "        batch_size=20,\r\n",
        "        # categorical_crossentropy 손실을 사용하므로 다중 레이블이 필요합니다\r\n",
        "        class_mode='categorical')\r\n",
        "\r\n",
        "valid_generator2 = valid_datagen2.flow_from_directory(\r\n",
        "        valid_dir,\r\n",
        "        target_size=(150, 150),\r\n",
        "        batch_size=20,\r\n",
        "        class_mode='categorical')\r\n",
        "\r\n",
        "model.compile(loss='categorical_crossentropy',\r\n",
        "              optimizer=RMSprop(lr=2e-5),\r\n",
        "              metrics=['acc'])\r\n"
      ],
      "execution_count": 22,
      "outputs": [
        {
          "output_type": "stream",
          "text": [
            "Found 9357 images belonging to 6 classes.\n",
            "Found 4677 images belonging to 6 classes.\n"
          ],
          "name": "stdout"
        }
      ]
    },
    {
      "cell_type": "code",
      "metadata": {
        "colab": {
          "base_uri": "https://localhost:8080/"
        },
        "id": "gWPo3AZQqYRu",
        "outputId": "2ff9d3bc-e9c2-433b-ed2b-464830e9feb3"
      },
      "source": [
        "history = model.fit_generator(\r\n",
        "      train_generator2,\r\n",
        "      steps_per_epoch=100,\r\n",
        "      epochs=30,\r\n",
        "      validation_data=valid_generator2,\r\n",
        "      validation_steps=50)"
      ],
      "execution_count": 23,
      "outputs": [
        {
          "output_type": "stream",
          "text": [
            "/usr/local/lib/python3.6/dist-packages/tensorflow/python/keras/engine/training.py:1844: UserWarning: `Model.fit_generator` is deprecated and will be removed in a future version. Please use `Model.fit`, which supports generators.\n",
            "  warnings.warn('`Model.fit_generator` is deprecated and '\n"
          ],
          "name": "stderr"
        },
        {
          "output_type": "stream",
          "text": [
            "Epoch 1/30\n",
            "100/100 [==============================] - 938s 9s/step - loss: 1.5010 - acc: 0.4623 - val_loss: 0.9480 - val_acc: 0.7320\n",
            "Epoch 2/30\n",
            "100/100 [==============================] - 725s 7s/step - loss: 0.8893 - acc: 0.7295 - val_loss: 0.7067 - val_acc: 0.7620\n",
            "Epoch 3/30\n",
            "100/100 [==============================] - 597s 6s/step - loss: 0.7200 - acc: 0.7762 - val_loss: 0.5925 - val_acc: 0.8200\n",
            "Epoch 4/30\n",
            "100/100 [==============================] - 537s 5s/step - loss: 0.6228 - acc: 0.7915 - val_loss: 0.5349 - val_acc: 0.8090\n",
            "Epoch 5/30\n",
            "100/100 [==============================] - 385s 4s/step - loss: 0.5762 - acc: 0.7991 - val_loss: 0.5197 - val_acc: 0.8150\n",
            "Epoch 6/30\n",
            "100/100 [==============================] - 297s 3s/step - loss: 0.5380 - acc: 0.8225 - val_loss: 0.4540 - val_acc: 0.8610\n",
            "Epoch 7/30\n",
            "100/100 [==============================] - 219s 2s/step - loss: 0.4932 - acc: 0.8308 - val_loss: 0.4275 - val_acc: 0.8530\n",
            "Epoch 8/30\n",
            "100/100 [==============================] - 191s 2s/step - loss: 0.4704 - acc: 0.8382 - val_loss: 0.4511 - val_acc: 0.8400\n",
            "Epoch 9/30\n",
            "100/100 [==============================] - 156s 2s/step - loss: 0.4792 - acc: 0.8366 - val_loss: 0.4821 - val_acc: 0.8290\n",
            "Epoch 10/30\n",
            "100/100 [==============================] - 128s 1s/step - loss: 0.4755 - acc: 0.8177 - val_loss: 0.4341 - val_acc: 0.8290\n",
            "Epoch 11/30\n",
            "100/100 [==============================] - 87s 876ms/step - loss: 0.4359 - acc: 0.8469 - val_loss: 0.4293 - val_acc: 0.8400\n",
            "Epoch 12/30\n",
            "100/100 [==============================] - 79s 784ms/step - loss: 0.4562 - acc: 0.8328 - val_loss: 0.4317 - val_acc: 0.8490\n",
            "Epoch 13/30\n",
            "100/100 [==============================] - 67s 675ms/step - loss: 0.4021 - acc: 0.8650 - val_loss: 0.4213 - val_acc: 0.8500\n",
            "Epoch 14/30\n",
            "100/100 [==============================] - 56s 556ms/step - loss: 0.4147 - acc: 0.8444 - val_loss: 0.3769 - val_acc: 0.8700\n",
            "Epoch 15/30\n",
            "100/100 [==============================] - 47s 473ms/step - loss: 0.4009 - acc: 0.8490 - val_loss: 0.4008 - val_acc: 0.8620\n",
            "Epoch 16/30\n",
            "100/100 [==============================] - 38s 385ms/step - loss: 0.3999 - acc: 0.8472 - val_loss: 0.4252 - val_acc: 0.8500\n",
            "Epoch 17/30\n",
            "100/100 [==============================] - 34s 347ms/step - loss: 0.3884 - acc: 0.8690 - val_loss: 0.3962 - val_acc: 0.8610\n",
            "Epoch 18/30\n",
            "100/100 [==============================] - 30s 300ms/step - loss: 0.4136 - acc: 0.8669 - val_loss: 0.3936 - val_acc: 0.8530\n",
            "Epoch 19/30\n",
            "100/100 [==============================] - 30s 299ms/step - loss: 0.4404 - acc: 0.8377 - val_loss: 0.4013 - val_acc: 0.8560\n",
            "Epoch 20/30\n",
            "100/100 [==============================] - 27s 264ms/step - loss: 0.3737 - acc: 0.8745 - val_loss: 0.3287 - val_acc: 0.8840\n",
            "Epoch 21/30\n",
            "100/100 [==============================] - 24s 229ms/step - loss: 0.3720 - acc: 0.8609 - val_loss: 0.3398 - val_acc: 0.8750\n",
            "Epoch 22/30\n",
            "100/100 [==============================] - 20s 202ms/step - loss: 0.3784 - acc: 0.8566 - val_loss: 0.3959 - val_acc: 0.8460\n",
            "Epoch 23/30\n",
            "100/100 [==============================] - 21s 208ms/step - loss: 0.3527 - acc: 0.8692 - val_loss: 0.3351 - val_acc: 0.8800\n",
            "Epoch 24/30\n",
            "100/100 [==============================] - 21s 210ms/step - loss: 0.3594 - acc: 0.8672 - val_loss: 0.3812 - val_acc: 0.8610\n",
            "Epoch 25/30\n",
            "100/100 [==============================] - 20s 202ms/step - loss: 0.3768 - acc: 0.8576 - val_loss: 0.3814 - val_acc: 0.8610\n",
            "Epoch 26/30\n",
            "100/100 [==============================] - 18s 182ms/step - loss: 0.3496 - acc: 0.8717 - val_loss: 0.3889 - val_acc: 0.8670\n",
            "Epoch 27/30\n",
            "100/100 [==============================] - 19s 193ms/step - loss: 0.3837 - acc: 0.8576 - val_loss: 0.3736 - val_acc: 0.8630\n",
            "Epoch 28/30\n",
            "100/100 [==============================] - 19s 191ms/step - loss: 0.3673 - acc: 0.8551 - val_loss: 0.3666 - val_acc: 0.8640\n",
            "Epoch 29/30\n",
            "100/100 [==============================] - 17s 174ms/step - loss: 0.3463 - acc: 0.8814 - val_loss: 0.3757 - val_acc: 0.8650\n",
            "Epoch 30/30\n",
            "100/100 [==============================] - 17s 167ms/step - loss: 0.3764 - acc: 0.8669 - val_loss: 0.3901 - val_acc: 0.8620\n"
          ],
          "name": "stdout"
        }
      ]
    },
    {
      "cell_type": "code",
      "metadata": {
        "id": "PWdnIde5Us9V"
      },
      "source": [
        "model.save('freezecnn.h5')"
      ],
      "execution_count": 24,
      "outputs": []
    },
    {
      "cell_type": "code",
      "metadata": {
        "id": "C3d6c6-sVbAB",
        "colab": {
          "base_uri": "https://localhost:8080/",
          "height": 545
        },
        "outputId": "375c1192-4f6b-443b-daa2-9df1203c88c6"
      },
      "source": [
        "acc = history.history['acc']\r\n",
        "val_acc = history.history['val_acc']\r\n",
        "loss = history.history['loss']\r\n",
        "val_loss = history.history['val_loss']\r\n",
        "\r\n",
        "epochs = range(len(acc))\r\n",
        "\r\n",
        "plt.plot(epochs, acc, 'bo', label='Training acc')\r\n",
        "plt.plot(epochs, val_acc, 'b', label='Validation acc')\r\n",
        "plt.title('Training and validation accuracy')\r\n",
        "plt.legend()\r\n",
        "\r\n",
        "plt.figure()\r\n",
        "\r\n",
        "plt.plot(epochs, loss, 'bo', label='Training loss')\r\n",
        "plt.plot(epochs, val_loss, 'b', label='Validation loss')\r\n",
        "plt.title('Training and validation loss')\r\n",
        "plt.legend()\r\n",
        "\r\n",
        "plt.show()"
      ],
      "execution_count": 25,
      "outputs": [
        {
          "output_type": "display_data",
          "data": {
            "image/png": "[encoded data removed]",
            "text/plain": [
              "<Figure size 432x288 with 1 Axes>"
            ]
          },
          "metadata": {
            "tags": [],
            "needs_background": "light"
          }
        },
        {
          "output_type": "display_data",
          "data": {
            "image/png": "[encoded data removed]",
            "text/plain": [
              "<Figure size 432x288 with 1 Axes>"
            ]
          },
          "metadata": {
            "tags": [],
            "needs_background": "light"
          }
        }
      ]
    },
    {
      "cell_type": "markdown",
      "metadata": {
        "id": "_Fg6_6ULp-43"
      },
      "source": [
        "## Fine Tuning"
      ]
    },
    {
      "cell_type": "code",
      "metadata": {
        "id": "aw6zAoGtrxXT",
        "colab": {
          "base_uri": "https://localhost:8080/"
        },
        "outputId": "91bdcaf9-efbf-479f-bee2-752535156c53"
      },
      "source": [
        "conv_base.summary()"
      ],
      "execution_count": 26,
      "outputs": [
        {
          "output_type": "stream",
          "text": [
            "Model: \"vgg16\"\n",
            "_________________________________________________________________\n",
            "Layer (type)                 Output Shape              Param #   \n",
            "=================================================================\n",
            "input_1 (InputLayer)         [(None, 150, 150, 3)]     0         \n",
            "_________________________________________________________________\n",
            "block1_conv1 (Conv2D)        (None, 150, 150, 64)      1792      \n",
            "_________________________________________________________________\n",
            "block1_conv2 (Conv2D)        (None, 150, 150, 64)      36928     \n",
            "_________________________________________________________________\n",
            "block1_pool (MaxPooling2D)   (None, 75, 75, 64)        0         \n",
            "_________________________________________________________________\n",
            "block2_conv1 (Conv2D)        (None, 75, 75, 128)       73856     \n",
            "_________________________________________________________________\n",
            "block2_conv2 (Conv2D)        (None, 75, 75, 128)       147584    \n",
            "_________________________________________________________________\n",
            "block2_pool (MaxPooling2D)   (None, 37, 37, 128)       0         \n",
            "_________________________________________________________________\n",
            "block3_conv1 (Conv2D)        (None, 37, 37, 256)       295168    \n",
            "_________________________________________________________________\n",
            "block3_conv2 (Conv2D)        (None, 37, 37, 256)       590080    \n",
            "_________________________________________________________________\n",
            "block3_conv3 (Conv2D)        (None, 37, 37, 256)       590080    \n",
            "_________________________________________________________________\n",
            "block3_pool (MaxPooling2D)   (None, 18, 18, 256)       0         \n",
            "_________________________________________________________________\n",
            "block4_conv1 (Conv2D)        (None, 18, 18, 512)       1180160   \n",
            "_________________________________________________________________\n",
            "block4_conv2 (Conv2D)        (None, 18, 18, 512)       2359808   \n",
            "_________________________________________________________________\n",
            "block4_conv3 (Conv2D)        (None, 18, 18, 512)       2359808   \n",
            "_________________________________________________________________\n",
            "block4_pool (MaxPooling2D)   (None, 9, 9, 512)         0         \n",
            "_________________________________________________________________\n",
            "block5_conv1 (Conv2D)        (None, 9, 9, 512)         2359808   \n",
            "_________________________________________________________________\n",
            "block5_conv2 (Conv2D)        (None, 9, 9, 512)         2359808   \n",
            "_________________________________________________________________\n",
            "block5_conv3 (Conv2D)        (None, 9, 9, 512)         2359808   \n",
            "_________________________________________________________________\n",
            "block5_pool (MaxPooling2D)   (None, 4, 4, 512)         0         \n",
            "=================================================================\n",
            "Total params: 14,714,688\n",
            "Trainable params: 0\n",
            "Non-trainable params: 14,714,688\n",
            "_________________________________________________________________\n"
          ],
          "name": "stdout"
        }
      ]
    },
    {
      "cell_type": "code",
      "metadata": {
        "id": "geoTuvMYqhL2"
      },
      "source": [
        "conv_base.trainable = True\r\n",
        "\r\n",
        "set_trainable = False\r\n",
        "for layer in conv_base.layers:\r\n",
        "    if layer.name == 'block5_conv1':\r\n",
        "        set_trainable = True\r\n",
        "    if set_trainable:\r\n",
        "        layer.trainable = True\r\n",
        "    else:\r\n",
        "        layer.trainable = False"
      ],
      "execution_count": 27,
      "outputs": []
    },
    {
      "cell_type": "code",
      "metadata": {
        "colab": {
          "base_uri": "https://localhost:8080/"
        },
        "id": "xGzfmdc4Wx5t",
        "outputId": "9aff2796-5a99-4d54-b1bd-d8038d74b5cc"
      },
      "source": [
        "model.compile(loss='categorical_crossentropy',\r\n",
        "              optimizer=RMSprop(lr=1e-5),\r\n",
        "              metrics=['acc'])\r\n",
        "\r\n",
        "history = model.fit_generator(\r\n",
        "      train_generator,\r\n",
        "      steps_per_epoch=100,\r\n",
        "      epochs=40,\r\n",
        "      validation_data=validation_generator,\r\n",
        "      validation_steps=50)"
      ],
      "execution_count": 28,
      "outputs": [
        {
          "output_type": "stream",
          "text": [
            "Epoch 1/40\n"
          ],
          "name": "stdout"
        },
        {
          "output_type": "stream",
          "text": [
            "/usr/local/lib/python3.6/dist-packages/tensorflow/python/keras/engine/training.py:1844: UserWarning: `Model.fit_generator` is deprecated and will be removed in a future version. Please use `Model.fit`, which supports generators.\n",
            "  warnings.warn('`Model.fit_generator` is deprecated and '\n"
          ],
          "name": "stderr"
        },
        {
          "output_type": "stream",
          "text": [
            "100/100 [==============================] - 11s 105ms/step - loss: 0.3395 - acc: 0.8712 - val_loss: 0.3732 - val_acc: 0.8710\n",
            "Epoch 2/40\n",
            "100/100 [==============================] - 11s 111ms/step - loss: 0.2998 - acc: 0.8946 - val_loss: 0.3497 - val_acc: 0.8840\n",
            "Epoch 3/40\n",
            "100/100 [==============================] - 11s 107ms/step - loss: 0.2476 - acc: 0.9159 - val_loss: 0.3520 - val_acc: 0.8690\n",
            "Epoch 4/40\n",
            "100/100 [==============================] - 10s 103ms/step - loss: 0.2212 - acc: 0.9197 - val_loss: 0.3123 - val_acc: 0.8900\n",
            "Epoch 5/40\n",
            "100/100 [==============================] - 10s 102ms/step - loss: 0.2255 - acc: 0.9215 - val_loss: 0.3411 - val_acc: 0.8910\n",
            "Epoch 6/40\n",
            "100/100 [==============================] - 10s 102ms/step - loss: 0.1799 - acc: 0.9316 - val_loss: 0.3469 - val_acc: 0.8860\n",
            "Epoch 7/40\n",
            "100/100 [==============================] - 10s 103ms/step - loss: 0.1762 - acc: 0.9446 - val_loss: 0.3116 - val_acc: 0.8970\n",
            "Epoch 8/40\n",
            "100/100 [==============================] - 10s 103ms/step - loss: 0.1935 - acc: 0.9401 - val_loss: 0.3110 - val_acc: 0.8930\n",
            "Epoch 9/40\n",
            "100/100 [==============================] - 10s 103ms/step - loss: 0.1537 - acc: 0.9506 - val_loss: 0.3361 - val_acc: 0.8850\n",
            "Epoch 10/40\n",
            "100/100 [==============================] - 10s 104ms/step - loss: 0.1871 - acc: 0.9414 - val_loss: 0.2938 - val_acc: 0.8980\n",
            "Epoch 11/40\n",
            "100/100 [==============================] - 11s 106ms/step - loss: 0.1443 - acc: 0.9556 - val_loss: 0.2984 - val_acc: 0.8940\n",
            "Epoch 12/40\n",
            "100/100 [==============================] - 10s 103ms/step - loss: 0.1454 - acc: 0.9540 - val_loss: 0.3268 - val_acc: 0.8910\n",
            "Epoch 13/40\n",
            "100/100 [==============================] - 10s 103ms/step - loss: 0.1355 - acc: 0.9556 - val_loss: 0.2839 - val_acc: 0.9010\n",
            "Epoch 14/40\n",
            "100/100 [==============================] - 10s 102ms/step - loss: 0.1232 - acc: 0.9618 - val_loss: 0.2942 - val_acc: 0.9040\n",
            "Epoch 15/40\n",
            "100/100 [==============================] - 10s 103ms/step - loss: 0.1194 - acc: 0.9667 - val_loss: 0.3115 - val_acc: 0.9030\n",
            "Epoch 16/40\n",
            "100/100 [==============================] - 10s 103ms/step - loss: 0.1080 - acc: 0.9721 - val_loss: 0.3798 - val_acc: 0.8890\n",
            "Epoch 17/40\n",
            "100/100 [==============================] - 10s 103ms/step - loss: 0.0891 - acc: 0.9702 - val_loss: 0.4032 - val_acc: 0.8850\n",
            "Epoch 18/40\n",
            "100/100 [==============================] - 10s 103ms/step - loss: 0.0997 - acc: 0.9710 - val_loss: 0.3722 - val_acc: 0.8830\n",
            "Epoch 19/40\n",
            "100/100 [==============================] - 11s 105ms/step - loss: 0.0890 - acc: 0.9754 - val_loss: 0.2923 - val_acc: 0.9060\n",
            "Epoch 20/40\n",
            "100/100 [==============================] - 10s 103ms/step - loss: 0.0752 - acc: 0.9795 - val_loss: 0.3062 - val_acc: 0.9000\n",
            "Epoch 21/40\n",
            "100/100 [==============================] - 10s 103ms/step - loss: 0.0946 - acc: 0.9727 - val_loss: 0.3150 - val_acc: 0.9130\n",
            "Epoch 22/40\n",
            "100/100 [==============================] - 10s 103ms/step - loss: 0.0837 - acc: 0.9798 - val_loss: 0.3550 - val_acc: 0.8880\n",
            "Epoch 23/40\n",
            "100/100 [==============================] - 10s 103ms/step - loss: 0.0676 - acc: 0.9821 - val_loss: 0.3287 - val_acc: 0.8960\n",
            "Epoch 24/40\n",
            "100/100 [==============================] - 10s 103ms/step - loss: 0.0529 - acc: 0.9859 - val_loss: 0.3566 - val_acc: 0.8960\n",
            "Epoch 25/40\n",
            "100/100 [==============================] - 11s 106ms/step - loss: 0.0661 - acc: 0.9821 - val_loss: 0.3612 - val_acc: 0.8900\n",
            "Epoch 26/40\n",
            "100/100 [==============================] - 10s 103ms/step - loss: 0.0682 - acc: 0.9805 - val_loss: 0.3026 - val_acc: 0.9000\n",
            "Epoch 27/40\n",
            "100/100 [==============================] - 10s 103ms/step - loss: 0.0404 - acc: 0.9916 - val_loss: 0.3742 - val_acc: 0.8990\n",
            "Epoch 28/40\n",
            "100/100 [==============================] - 10s 103ms/step - loss: 0.0525 - acc: 0.9850 - val_loss: 0.3265 - val_acc: 0.8990\n",
            "Epoch 29/40\n",
            "100/100 [==============================] - 10s 104ms/step - loss: 0.0457 - acc: 0.9896 - val_loss: 0.3045 - val_acc: 0.9090\n",
            "Epoch 30/40\n",
            "100/100 [==============================] - 10s 103ms/step - loss: 0.0341 - acc: 0.9926 - val_loss: 0.2857 - val_acc: 0.9150\n",
            "Epoch 31/40\n",
            "100/100 [==============================] - 10s 103ms/step - loss: 0.0605 - acc: 0.9851 - val_loss: 0.3370 - val_acc: 0.9050\n",
            "Epoch 32/40\n",
            "100/100 [==============================] - 10s 103ms/step - loss: 0.0400 - acc: 0.9923 - val_loss: 0.3662 - val_acc: 0.8950\n",
            "Epoch 33/40\n",
            "100/100 [==============================] - 10s 103ms/step - loss: 0.0466 - acc: 0.9852 - val_loss: 0.2900 - val_acc: 0.9110\n",
            "Epoch 34/40\n",
            "100/100 [==============================] - 10s 103ms/step - loss: 0.0559 - acc: 0.9841 - val_loss: 0.4129 - val_acc: 0.9010\n",
            "Epoch 35/40\n",
            "100/100 [==============================] - 10s 103ms/step - loss: 0.0306 - acc: 0.9943 - val_loss: 0.4144 - val_acc: 0.8950\n",
            "Epoch 36/40\n",
            "100/100 [==============================] - 10s 103ms/step - loss: 0.0297 - acc: 0.9927 - val_loss: 0.3673 - val_acc: 0.9030\n",
            "Epoch 37/40\n",
            "100/100 [==============================] - 10s 103ms/step - loss: 0.0288 - acc: 0.9931 - val_loss: 0.4179 - val_acc: 0.9030\n",
            "Epoch 38/40\n",
            "100/100 [==============================] - 10s 102ms/step - loss: 0.0258 - acc: 0.9953 - val_loss: 0.3032 - val_acc: 0.9150\n",
            "Epoch 39/40\n",
            "100/100 [==============================] - 10s 102ms/step - loss: 0.0195 - acc: 0.9980 - val_loss: 0.3401 - val_acc: 0.9180\n",
            "Epoch 40/40\n",
            "100/100 [==============================] - 10s 103ms/step - loss: 0.0191 - acc: 0.9946 - val_loss: 0.3654 - val_acc: 0.9130\n"
          ],
          "name": "stdout"
        }
      ]
    },
    {
      "cell_type": "code",
      "metadata": {
        "id": "sSYR10vLW2By"
      },
      "source": [
        "model.save('finetuning.h5')"
      ],
      "execution_count": 29,
      "outputs": []
    },
    {
      "cell_type": "code",
      "metadata": {
        "id": "_fFaGQW0W4gx",
        "colab": {
          "base_uri": "https://localhost:8080/",
          "height": 545
        },
        "outputId": "14a5a5e2-93f2-477c-afb3-0d655447da7f"
      },
      "source": [
        "acc = history.history['acc']\r\n",
        "val_acc = history.history['val_acc']\r\n",
        "loss = history.history['loss']\r\n",
        "val_loss = history.history['val_loss']\r\n",
        "\r\n",
        "epochs = range(len(acc))\r\n",
        "\r\n",
        "plt.plot(epochs, acc, 'bo', label='Training acc')\r\n",
        "plt.plot(epochs, val_acc, 'b', label='Validation acc')\r\n",
        "plt.title('Training and validation accuracy')\r\n",
        "plt.legend()\r\n",
        "\r\n",
        "plt.figure()\r\n",
        "\r\n",
        "plt.plot(epochs, loss, 'bo', label='Training loss')\r\n",
        "plt.plot(epochs, val_loss, 'b', label='Validation loss')\r\n",
        "plt.title('Training and validation loss')\r\n",
        "plt.legend()\r\n",
        "\r\n",
        "plt.show()"
      ],
      "execution_count": 30,
      "outputs": [
        {
          "output_type": "display_data",
          "data": {
            "image/png": "[encoded data removed]",
            "text/plain": [
              "<Figure size 432x288 with 1 Axes>"
            ]
          },
          "metadata": {
            "tags": [],
            "needs_background": "light"
          }
        },
        {
          "output_type": "display_data",
          "data": {
            "image/png": "[encoded data removed]",
            "text/plain": [
              "<Figure size 432x288 with 1 Axes>"
            ]
          },
          "metadata": {
            "tags": [],
            "needs_background": "light"
          }
        }
      ]
    },
    {
      "cell_type": "markdown",
      "metadata": {
        "id": "2WBJ_8S7wrI9"
      },
      "source": [
        "# Submission\r\n"
      ]
    },
    {
      "cell_type": "code",
      "metadata": {
        "id": "H2MZQVlXtbm7"
      },
      "source": [
        "from keras.models import load_model"
      ],
      "execution_count": 32,
      "outputs": []
    },
    {
      "cell_type": "code",
      "metadata": {
        "colab": {
          "base_uri": "https://localhost:8080/"
        },
        "id": "KMB98cEhVvDk",
        "outputId": "f1e72459-668b-43cc-e0b4-9613564150a4"
      },
      "source": [
        "model.summary()"
      ],
      "execution_count": 35,
      "outputs": [
        {
          "output_type": "stream",
          "text": [
            "Model: \"sequential_1\"\n",
            "_________________________________________________________________\n",
            "Layer (type)                 Output Shape              Param #   \n",
            "=================================================================\n",
            "vgg16 (Functional)           (None, 4, 4, 512)         14714688  \n",
            "_________________________________________________________________\n",
            "flatten (Flatten)            (None, 8192)              0         \n",
            "_________________________________________________________________\n",
            "dense_2 (Dense)              (None, 256)               2097408   \n",
            "_________________________________________________________________\n",
            "dense_3 (Dense)              (None, 6)                 1542      \n",
            "=================================================================\n",
            "Total params: 16,813,638\n",
            "Trainable params: 9,178,374\n",
            "Non-trainable params: 7,635,264\n",
            "_________________________________________________________________\n"
          ],
          "name": "stdout"
        }
      ]
    },
    {
      "cell_type": "code",
      "metadata": {
        "id": "CWOgDQIN6VOY"
      },
      "source": [
        "import cv2\r\n",
        "import os\r\n",
        "\r\n",
        "test_dir2='/content/drive/Shareddrives/Practical_Computer_Vision/week_2/Classification/test'\r\n",
        "fnames=os.listdir(test_dir)\r\n",
        "mapping={0:'buildings',1:'forest',2:'glacier',3:'mountain',4:'sea',5:'street'}"
      ],
      "execution_count": 33,
      "outputs": []
    },
    {
      "cell_type": "code",
      "metadata": {
        "colab": {
          "base_uri": "https://localhost:8080/"
        },
        "id": "RjAMQLQQV-GR",
        "outputId": "caf2c2b3-a29e-458f-f349-10fa43e3a0b7"
      },
      "source": [
        "#원리\r\n",
        "img_BGR=cv2.imread(test_dir2+'/'+fnames[16],cv2.IMREAD_COLOR)\r\n",
        "img_RGB=cv2.cvtColor(img_BGR,cv2.COLOR_BGR2RGB)\r\n",
        "\r\n",
        "img_RGB=cv2.resize(img_RGB,(150,150),interpolation=cv2.INTER_LINEAR)\r\n",
        "\r\n",
        "img_RGB=np.expand_dims(img_RGB,0)\r\n",
        "img_RGB=img_RGB/255.\r\n",
        "\r\n",
        "print(img_RGB.shape)\r\n",
        "print(img_RGB)\r\n",
        "print(fnames[16],mapping[np.argmax(model.predict(img_RGB))])"
      ],
      "execution_count": 55,
      "outputs": [
        {
          "output_type": "stream",
          "text": [
            "(1, 150, 150, 3)\n",
            "[[[[0.08627451 0.11372549 0.08627451]\n",
            "   [0.04705882 0.07843137 0.02745098]\n",
            "   [0.08235294 0.11372549 0.02352941]\n",
            "   ...\n",
            "   [0.85098039 0.87058824 0.84313725]\n",
            "   [0.94117647 0.94509804 0.91372549]\n",
            "   [0.63529412 0.63921569 0.60784314]]\n",
            "\n",
            "  [[0.14509804 0.17254902 0.14509804]\n",
            "   [0.15294118 0.18431373 0.14117647]\n",
            "   [0.01960784 0.04705882 0.        ]\n",
            "   ...\n",
            "   [0.8        0.81960784 0.79607843]\n",
            "   [0.77254902 0.78431373 0.75686275]\n",
            "   [0.17647059 0.18039216 0.15686275]]\n",
            "\n",
            "  [[0.00392157 0.03921569 0.01960784]\n",
            "   [0.09019608 0.1254902  0.10588235]\n",
            "   [0.27843137 0.30588235 0.27843137]\n",
            "   ...\n",
            "   [0.88235294 0.89803922 0.89411765]\n",
            "   [0.70588235 0.71372549 0.70196078]\n",
            "   [0.02352941 0.03137255 0.01960784]]\n",
            "\n",
            "  ...\n",
            "\n",
            "  [[0.48235294 0.51764706 0.50588235]\n",
            "   [0.51372549 0.5372549  0.52156863]\n",
            "   [0.63137255 0.64313725 0.60784314]\n",
            "   ...\n",
            "   [0.56862745 0.58431373 0.58039216]\n",
            "   [0.30980392 0.33333333 0.3254902 ]\n",
            "   [0.43137255 0.45490196 0.44705882]]\n",
            "\n",
            "  [[0.54509804 0.57647059 0.58823529]\n",
            "   [0.49411765 0.51764706 0.51764706]\n",
            "   [0.40392157 0.42352941 0.4       ]\n",
            "   ...\n",
            "   [0.60392157 0.62745098 0.61176471]\n",
            "   [0.56470588 0.58823529 0.57254902]\n",
            "   [0.58039216 0.60392157 0.58823529]]\n",
            "\n",
            "  [[0.58823529 0.61568627 0.63921569]\n",
            "   [0.52156863 0.54117647 0.55294118]\n",
            "   [0.43529412 0.45490196 0.43921569]\n",
            "   ...\n",
            "   [0.66666667 0.69019608 0.6745098 ]\n",
            "   [0.6745098  0.69803922 0.68235294]\n",
            "   [0.62745098 0.65098039 0.63529412]]]]\n",
            "20592.jpg street\n"
          ],
          "name": "stdout"
        }
      ]
    },
    {
      "cell_type": "code",
      "metadata": {
        "id": "GVqTJzxWdHoz"
      },
      "source": [
        "import pandas as pd\r\n",
        "\r\n",
        "output=[]\r\n",
        "mapping={0:'buildings',1:'forest',2:'glacier',3:'mountain',4:'sea',5:'street'}\r\n",
        "\r\n",
        "for file in fnames:\r\n",
        "  tmp=[]\r\n",
        "  img_BGR=cv2.imread(test_dir2+'/'+file,cv2.IMREAD_COLOR)\r\n",
        "  img_RGB=cv2.cvtColor(img_BGR,cv2.COLOR_BGR2RGB)\r\n",
        "  img_RGB=cv2.resize(img_RGB,(150,150),interpolation=cv2.INTER_LINEAR)\r\n",
        "  img_RGB=np.expand_dims(img_RGB,0)\r\n",
        "  img_RGB=img_RGB/255.\r\n",
        "\r\n",
        "  a=mapping[np.argmax(model.predict(img_RGB))]\r\n",
        "  tmp.append(file)\r\n",
        "  tmp.append(a)\r\n",
        "  output.append(tmp)\r\n",
        "\r\n",
        "\r\n"
      ],
      "execution_count": 59,
      "outputs": []
    },
    {
      "cell_type": "code",
      "metadata": {
        "colab": {
          "base_uri": "https://localhost:8080/",
          "height": 194
        },
        "id": "66bTrrJRaOge",
        "outputId": "b2006719-7081-42a8-c55d-b577b2443483"
      },
      "source": [
        "import pandas as pd\r\n",
        "\r\n",
        "output1=pd.DataFrame(output)\r\n",
        "output1.head(5)\r\n",
        "\r\n"
      ],
      "execution_count": 60,
      "outputs": [
        {
          "output_type": "execute_result",
          "data": {
            "text/html": [
              "<div>\n",
              "<style scoped>\n",
              "    .dataframe tbody tr th:only-of-type {\n",
              "        vertical-align: middle;\n",
              "    }\n",
              "\n",
              "    .dataframe tbody tr th {\n",
              "        vertical-align: top;\n",
              "    }\n",
              "\n",
              "    .dataframe thead th {\n",
              "        text-align: right;\n",
              "    }\n",
              "</style>\n",
              "<table border=\"1\" class=\"dataframe\">\n",
              "  <thead>\n",
              "    <tr style=\"text-align: right;\">\n",
              "      <th></th>\n",
              "      <th>0</th>\n",
              "      <th>1</th>\n",
              "    </tr>\n",
              "  </thead>\n",
              "  <tbody>\n",
              "    <tr>\n",
              "      <th>0</th>\n",
              "      <td>20498.jpg</td>\n",
              "      <td>street</td>\n",
              "    </tr>\n",
              "    <tr>\n",
              "      <th>1</th>\n",
              "      <td>20270.jpg</td>\n",
              "      <td>street</td>\n",
              "    </tr>\n",
              "    <tr>\n",
              "      <th>2</th>\n",
              "      <td>20388.jpg</td>\n",
              "      <td>street</td>\n",
              "    </tr>\n",
              "    <tr>\n",
              "      <th>3</th>\n",
              "      <td>20464.jpg</td>\n",
              "      <td>street</td>\n",
              "    </tr>\n",
              "    <tr>\n",
              "      <th>4</th>\n",
              "      <td>20670.jpg</td>\n",
              "      <td>street</td>\n",
              "    </tr>\n",
              "  </tbody>\n",
              "</table>\n",
              "</div>"
            ],
            "text/plain": [
              "           0       1\n",
              "0  20498.jpg  street\n",
              "1  20270.jpg  street\n",
              "2  20388.jpg  street\n",
              "3  20464.jpg  street\n",
              "4  20670.jpg  street"
            ]
          },
          "metadata": {
            "tags": []
          },
          "execution_count": 60
        }
      ]
    },
    {
      "cell_type": "code",
      "metadata": {
        "id": "9yeUcgbhzwMD",
        "colab": {
          "base_uri": "https://localhost:8080/",
          "height": 340
        },
        "outputId": "df018777-39d9-40d2-ce4d-3e2a952e2160"
      },
      "source": [
        "output1.columns=['name','class']\r\n",
        "ans=output1.sort_values(by='name')\r\n",
        "ans.head(10)\r\n"
      ],
      "execution_count": 61,
      "outputs": [
        {
          "output_type": "execute_result",
          "data": {
            "text/html": [
              "<div>\n",
              "<style scoped>\n",
              "    .dataframe tbody tr th:only-of-type {\n",
              "        vertical-align: middle;\n",
              "    }\n",
              "\n",
              "    .dataframe tbody tr th {\n",
              "        vertical-align: top;\n",
              "    }\n",
              "\n",
              "    .dataframe thead th {\n",
              "        text-align: right;\n",
              "    }\n",
              "</style>\n",
              "<table border=\"1\" class=\"dataframe\">\n",
              "  <thead>\n",
              "    <tr style=\"text-align: right;\">\n",
              "      <th></th>\n",
              "      <th>name</th>\n",
              "      <th>class</th>\n",
              "    </tr>\n",
              "  </thead>\n",
              "  <tbody>\n",
              "    <tr>\n",
              "      <th>2455</th>\n",
              "      <td>20056.jpg</td>\n",
              "      <td>forest</td>\n",
              "    </tr>\n",
              "    <tr>\n",
              "      <th>2762</th>\n",
              "      <td>20057.jpg</td>\n",
              "      <td>buildings</td>\n",
              "    </tr>\n",
              "    <tr>\n",
              "      <th>1688</th>\n",
              "      <td>20058.jpg</td>\n",
              "      <td>mountain</td>\n",
              "    </tr>\n",
              "    <tr>\n",
              "      <th>2043</th>\n",
              "      <td>20059.jpg</td>\n",
              "      <td>glacier</td>\n",
              "    </tr>\n",
              "    <tr>\n",
              "      <th>2767</th>\n",
              "      <td>20060.jpg</td>\n",
              "      <td>buildings</td>\n",
              "    </tr>\n",
              "    <tr>\n",
              "      <th>2768</th>\n",
              "      <td>20061.jpg</td>\n",
              "      <td>buildings</td>\n",
              "    </tr>\n",
              "    <tr>\n",
              "      <th>2477</th>\n",
              "      <td>20062.jpg</td>\n",
              "      <td>forest</td>\n",
              "    </tr>\n",
              "    <tr>\n",
              "      <th>2771</th>\n",
              "      <td>20064.jpg</td>\n",
              "      <td>buildings</td>\n",
              "    </tr>\n",
              "    <tr>\n",
              "      <th>892</th>\n",
              "      <td>20066.jpg</td>\n",
              "      <td>street</td>\n",
              "    </tr>\n",
              "    <tr>\n",
              "      <th>898</th>\n",
              "      <td>20067.jpg</td>\n",
              "      <td>buildings</td>\n",
              "    </tr>\n",
              "  </tbody>\n",
              "</table>\n",
              "</div>"
            ],
            "text/plain": [
              "           name      class\n",
              "2455  20056.jpg     forest\n",
              "2762  20057.jpg  buildings\n",
              "1688  20058.jpg   mountain\n",
              "2043  20059.jpg    glacier\n",
              "2767  20060.jpg  buildings\n",
              "2768  20061.jpg  buildings\n",
              "2477  20062.jpg     forest\n",
              "2771  20064.jpg  buildings\n",
              "892   20066.jpg     street\n",
              "898   20067.jpg  buildings"
            ]
          },
          "metadata": {
            "tags": []
          },
          "execution_count": 61
        }
      ]
    },
    {
      "cell_type": "code",
      "metadata": {
        "colab": {
          "base_uri": "https://localhost:8080/"
        },
        "id": "SdxrguKagqQf",
        "outputId": "5a02cad5-1857-4823-913d-19623d9cc56e"
      },
      "source": [
        "ans.index"
      ],
      "execution_count": 63,
      "outputs": [
        {
          "output_type": "execute_result",
          "data": {
            "text/plain": [
              "Int64Index([2455, 2762, 1688, 2043, 2767, 2768, 2477, 2771,  892,  898,\n",
              "            ...\n",
              "            2451, 1281, 2479, 1711, 2042,  891, 1284, 1312,  459, 1713],\n",
              "           dtype='int64', length=3000)"
            ]
          },
          "metadata": {
            "tags": []
          },
          "execution_count": 63
        }
      ]
    },
    {
      "cell_type": "code",
      "metadata": {
        "id": "90DQE162dhlo"
      },
      "source": [
        "ans.to_csv('team2_submission1.csv',index=False)"
      ],
      "execution_count": 62,
      "outputs": []
    },
    {
      "cell_type": "code",
      "metadata": {
        "id": "yXjr438ggeCv"
      },
      "source": [
        ""
      ],
      "execution_count": null,
      "outputs": []
    }
  ]
}